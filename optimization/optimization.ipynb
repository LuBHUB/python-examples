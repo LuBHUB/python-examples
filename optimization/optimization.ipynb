{
 "cells": [
  {
   "cell_type": "code",
   "execution_count": 1,
   "metadata": {},
   "outputs": [],
   "source": [
    "# third-party IPython extensions:\n",
    "%load_ext line_profiler\n",
    "%load_ext memory_profiler\n",
    "\n",
    "import functools\n",
    "import inspect\n",
    "import os\n",
    "from timeit import timeit\n",
    "\n",
    "# local import:\n",
    "import compare_funcs as cf"
   ]
  },
  {
   "cell_type": "markdown",
   "metadata": {},
   "source": [
    "# Optimization\n",
    "\n",
    "Most of the basic operations that our Python programs carry out are executed so quickly as to seem instantaneous. But because of the way that computers work, and because of the way that Python itself is designed, some basic operations take longer to execute in Python than do others. All else being equal, if we have the choice between two or more methods of accomplishing the same task, we would prefer the method that runs the fastest. Here we will look at a few techniques that can help us make our programs faster.\n",
    "\n",
    "Before doing so, it is important to note that all else is rarely equal. For many purposes it is much more important for our programs to be flexible, quick to write and to modify, and above all clear for others to read, than for them to be fast. We should avoid wasting time trying to make our program run a few milliseconds faster if this difference is not crucial.\n",
    "\n",
    "Cases in which we might genuinely need faster code include:\n",
    "\n",
    "* we are running the program on large inputs, such as huge squigabyte-sized data files\n",
    "* our program runs on a server and is queried by squillions of users per second\n",
    "\n",
    "In such cases, we may need to test different candidate solutions to some tasks, to see whether any are usefully faster for the specific cases that our program has to deal with. We may then make some changes, so as to optimize our program for these cases.\n",
    "\n",
    "The `timeit` module from the Python standard library provides a function that times the execution of a statement. We can enter the statement as a string. The units of the return value are seconds.\n",
    "\n",
    "Here for example to time a comparison of two integers:"
   ]
  },
  {
   "cell_type": "code",
   "execution_count": 2,
   "metadata": {},
   "outputs": [
    {
     "data": {
      "text/plain": [
       "0.030683400997077115"
      ]
     },
     "execution_count": 2,
     "metadata": {},
     "output_type": "execute_result"
    }
   ],
   "source": [
    "timeit('9000 > 0')"
   ]
  },
  {
   "cell_type": "markdown",
   "metadata": {},
   "source": [
    "This looks suspiciously slow for such a simple operation, almost as slow as a human being answering the same question. But this is in fact the execution time for a million repetitions of the statement. `timeit()` takes a `number` argument specifying how many times to run the statement, and the return value is the total execution time for all repetitions. The default is 1000000, as we can see from the function help:"
   ]
  },
  {
   "cell_type": "code",
   "execution_count": 3,
   "metadata": {},
   "outputs": [
    {
     "name": "stdout",
     "output_type": "stream",
     "text": [
      "Help on function timeit in module timeit:\n",
      "\n",
      "timeit(stmt='pass', setup='pass', timer=<built-in function perf_counter>, number=1000000, globals=None)\n",
      "    Convenience function to create Timer object and call timeit method.\n",
      "\n"
     ]
    }
   ],
   "source": [
    "help(timeit)"
   ]
  },
  {
   "cell_type": "markdown",
   "metadata": {},
   "source": [
    "This is a useful feature, since the execution time of a single repetition of a simple command is often too small to be easily interpretable."
   ]
  },
  {
   "cell_type": "code",
   "execution_count": 4,
   "metadata": {},
   "outputs": [
    {
     "data": {
      "text/plain": [
       "5.589972715824842e-07"
      ]
     },
     "execution_count": 4,
     "metadata": {},
     "output_type": "execute_result"
    }
   ],
   "source": [
    "timeit('9000 > 0', number=1)"
   ]
  },
  {
   "cell_type": "markdown",
   "metadata": {},
   "source": [
    "Python commands inside strings are not always easy to read, and are somewhat error-prone. `timeit()` allows for the first argument to instead be a function. This allows us to time a longer sequence of commands in a clearer way.\n",
    "\n",
    "Here with a somewhat spurious example function, just for illustration:"
   ]
  },
  {
   "cell_type": "code",
   "execution_count": 5,
   "metadata": {},
   "outputs": [
    {
     "data": {
      "text/plain": [
       "12.001796001000912"
      ]
     },
     "execution_count": 5,
     "metadata": {},
     "output_type": "execute_result"
    }
   ],
   "source": [
    "def get_even():\n",
    "    numbers = []\n",
    "    for i in range(100):\n",
    "        numbers.append(i)\n",
    "    evens = []\n",
    "    for n in numbers:\n",
    "        if n % 2 == 0:\n",
    "            evens.append(n)\n",
    "    return evens\n",
    "\n",
    "timeit(get_even)"
   ]
  },
  {
   "cell_type": "markdown",
   "metadata": {},
   "source": [
    "This function will be quite slow if we need it millions of times. It contains quite a few inefficiencies, such as assigning and appending to a list in a loop when the list entries could be created using built-in functions, and iterating over the same set of numbers twice. Below is an alternative that converts the desired range of numbers directly into a list. The gain in speed over a million calls is big.\n",
    "\n",
    "(We should also make sure to check first that the return value of the alternative is really the same.)"
   ]
  },
  {
   "cell_type": "code",
   "execution_count": 6,
   "metadata": {},
   "outputs": [
    {
     "data": {
      "text/plain": [
       "True"
      ]
     },
     "execution_count": 6,
     "metadata": {},
     "output_type": "execute_result"
    }
   ],
   "source": [
    "def get_even_alt():\n",
    "    return list(range(0, 100, 2))\n",
    "\n",
    "get_even_alt() == get_even()"
   ]
  },
  {
   "cell_type": "code",
   "execution_count": 7,
   "metadata": {},
   "outputs": [
    {
     "data": {
      "text/plain": [
       "0.6487632889984525"
      ]
     },
     "execution_count": 7,
     "metadata": {},
     "output_type": "execute_result"
    }
   ],
   "source": [
    "timeit(get_even_alt)"
   ]
  },
  {
   "cell_type": "markdown",
   "metadata": {},
   "source": [
    "The `compare_funcs` module provided along with this notebook defines a few simple functions, pairs of which accomplish the same common task in two different ways. For example, there is a function for creating a list by appending to it in a loop, and a partner function for the same task but using a list comprehension."
   ]
  },
  {
   "cell_type": "code",
   "execution_count": 8,
   "metadata": {},
   "outputs": [
    {
     "name": "stdout",
     "output_type": "stream",
     "text": [
      "def make_list_with_loop(n):\n",
      "    \"\"\"\n",
      "    Return a list of the first n square numbers.\n",
      "    This version appends to the list in a loop.\n",
      "    Compare with: make_list_with_comprehension\n",
      "    \"\"\"\n",
      "    squares = []\n",
      "    for i in range(n):\n",
      "        squares.append(i**2)\n",
      "    return squares\n",
      "\n",
      "def make_list_with_comprehension(n):\n",
      "    \"\"\"\n",
      "    Return a list of the first n square numbers.\n",
      "    This version creates the list with a comprehension.\n",
      "    Compare with: make_list_with_loop\n",
      "    \"\"\"\n",
      "    return [i**2 for i in range(n)]\n",
      "\n"
     ]
    }
   ],
   "source": [
    "for func in [cf.make_list_with_loop, cf.make_list_with_comprehension]:\n",
    "    print(inspect.getsource(func))"
   ]
  },
  {
   "cell_type": "markdown",
   "metadata": {},
   "source": [
    "Because these functions take a required argument that allows some parameter concerning the size of the task to vary, we need to wrap them together with a value for this argument, using the `partial()` function from `functools`, in order to be able to pass them in as a variable name as the `timeit()` function requires."
   ]
  },
  {
   "cell_type": "code",
   "execution_count": 9,
   "metadata": {},
   "outputs": [
    {
     "data": {
      "text/plain": [
       "0.0037860869997530244"
      ]
     },
     "execution_count": 9,
     "metadata": {},
     "output_type": "execute_result"
    }
   ],
   "source": [
    "timeit(functools.partial(cf.make_list_with_loop, 9000), number=1)"
   ]
  },
  {
   "cell_type": "markdown",
   "metadata": {},
   "source": [
    "## File I/O\n",
    "\n",
    "One of the most time-consuming everyday operations in computing is reading and writing to and from disk. In almost all cases it takes considerably more time to alter data on a permanent storage device like a computer hard drive than to alter it in temporary memory. So when writing lots of data we often need to make a compromise between ensuring our data is saved to disk often (safer, but slower), and building up data in our program's workspace and then writing it once when finished (more risk of data loss in the event of a crash, but faster).\n",
    "\n",
    "The example module provides two alternative functions to illustrate this phenomenon."
   ]
  },
  {
   "cell_type": "code",
   "execution_count": 10,
   "metadata": {},
   "outputs": [
    {
     "name": "stdout",
     "output_type": "stream",
     "text": [
      "def write_string_on_disk(n):\n",
      "    \"\"\"\n",
      "    Write a string of n digits to a temporary file.\n",
      "    This version writes each digit to the file in a separate open and write.\n",
      "    Compare with: write_string_in_memory\n",
      "    \"\"\"\n",
      "    with open(TEMPFILENAME, mode='w') as f:\n",
      "        for i in range(n):\n",
      "            f.write(str(i % 10))\n",
      "            f.flush() # (ensures writing occurs on every iteration)\n",
      "    os.remove(TEMPFILENAME)\n",
      "\n",
      "execution time: 0.03712692300177878 s\n",
      "\n",
      "\n",
      "def write_string_in_memory(n):\n",
      "    \"\"\"\n",
      "    Write a string of n digits to a temporary file.\n",
      "    This version first grows the string in memory then writes it to file.\n",
      "    Compare with: write_string_on_disk\n",
      "    \"\"\"\n",
      "    text = ''\n",
      "    for i in range(n):\n",
      "        text = text + str(i % 10)\n",
      "    with open(TEMPFILENAME, mode='w') as f:\n",
      "        f.write(text)\n",
      "    os.remove(TEMPFILENAME)\n",
      "\n",
      "execution time: 0.0023688319997745566 s\n",
      "\n",
      "\n"
     ]
    }
   ],
   "source": [
    "for func in [cf.write_string_on_disk, cf.write_string_in_memory]:\n",
    "    print(inspect.getsource(func))\n",
    "    print('execution time: {} s\\n\\n'.format(timeit(functools.partial(func, 9000), number=1)))"
   ]
  },
  {
   "cell_type": "markdown",
   "metadata": {},
   "source": [
    "## Inline timing in IPython\n",
    "\n",
    "IPython provides a [magic function](https://ipython.readthedocs.io/en/stable/interactive/magics.html#magic-timeit) `%timeit` that times the execution of a statement. This is often more convenient if we are working in IPython, as it provides a few benefits:\n",
    "\n",
    "* the input is a statement, not a function name, so we can time functions with input arguments, nested functions, etc.\n",
    "* the number of repetitions of the statement is determined automatically so as to produce a tolerable overall execution time\n",
    "* the result is formatted with automatically chosen units (milliseconds, microseconds, etc.) so as to shorten extremely small decimals"
   ]
  },
  {
   "cell_type": "code",
   "execution_count": 11,
   "metadata": {},
   "outputs": [
    {
     "name": "stdout",
     "output_type": "stream",
     "text": [
      "100 loops, best of 3: 2.32 ms per loop\n"
     ]
    }
   ],
   "source": [
    "%timeit cf.make_list_with_loop(9000)"
   ]
  },
  {
   "cell_type": "markdown",
   "metadata": {},
   "source": [
    "## Line profiling\n",
    "\n",
    "If we are timing a more elaborate function or a program that calls many functions, it may be helpful to first get an overview of which parts take the longest to execute. Often it is just one or two lines that account for most of the execution time.\n",
    "\n",
    "The [line_profiler](https://github.com/rkern/line_profiler) package provides functions for timing code line-by-line. It also provides an extension to IPython. This extension makes available the magic command `%lprun`, which runs a function or module and prints a line-by-line analysis. The `-f` option specifies which functions to profile (and we must specify this even if the input is just a call to that function)."
   ]
  },
  {
   "cell_type": "code",
   "execution_count": 12,
   "metadata": {},
   "outputs": [],
   "source": [
    "%lprun -f cf.write_string_on_disk cf.write_string_on_disk(9000)"
   ]
  },
  {
   "cell_type": "markdown",
   "metadata": {},
   "source": [
    "Somewhat frustratingly, `line_profiler`'s IPython extensions are configured so that the output always opens in the separate 'pager' frame, rather than being printed. So we cannot embed the output in a notebook without first reconfiguring the pager options (*extremely* tedious) or dumping the output into a file and then reading it in (easier, if slightly messy).\n",
    "\n",
    "For the sake of completeness, I show here how to dump the output to file and read it back in."
   ]
  },
  {
   "cell_type": "code",
   "execution_count": 13,
   "metadata": {},
   "outputs": [
    {
     "name": "stdout",
     "output_type": "stream",
     "text": [
      "\n",
      "*** Profile printout saved to text file 'temp_profile_output.txt'. \n",
      "Timer unit: 1e-06 s\n",
      "\n",
      "Total time: 0.047259 s\n",
      "File: /home/lt/Dropbox/Teach/Mind_and_Brain/Courses/Python/GitHub/python-examples/profiling/compare_funcs.py\n",
      "Function: write_string_on_disk at line 51\n",
      "\n",
      "Line #      Hits         Time  Per Hit   % Time  Line Contents\n",
      "==============================================================\n",
      "    51                                           def write_string_on_disk(n):\n",
      "    52                                               \"\"\"\n",
      "    53                                               Write a string of n digits to a temporary file.\n",
      "    54                                               This version writes each digit to the file in a separate open and write.\n",
      "    55                                               Compare with: write_string_in_memory\n",
      "    56                                               \"\"\"\n",
      "    57         1        239.0    239.0      0.5      with open(TEMPFILENAME, mode='w') as f:\n",
      "    58      9001       4995.0      0.6     10.6          for i in range(n):\n",
      "    59      9000       9003.0      1.0     19.1              f.write(str(i % 10))\n",
      "    60      9000      33002.0      3.7     69.8              f.flush() # (ensures writing occurs on every iteration)\n",
      "    61         1         20.0     20.0      0.0      os.remove(TEMPFILENAME)\n"
     ]
    }
   ],
   "source": [
    "%lprun -f cf.write_string_on_disk -T temp_profile_output.txt cf.write_string_on_disk(9000)\n",
    "\n",
    "print(open('temp_profile_output.txt').read())"
   ]
  },
  {
   "cell_type": "markdown",
   "metadata": {},
   "source": [
    "## Memory usage\n",
    "\n",
    "For a lot of applications, time is the critical factor in optimization. But there are other aspects of our program's performance that might limit its capabilities. The most common of these is the amount of temporary memory it requires. For example, we might run out of memory if:\n",
    "\n",
    "* we have to process huge squigabyte-sized files\n",
    "* we have to copy the contents of very large arrays or lists\n",
    "\n",
    "If tasks like these take us close to the maximum amount of memory that Python is permitted to work with, then our program may sometimes fail with a `MemoryError` or not transfer well across different systems with different amounts of memory available.\n",
    "\n",
    "The [memory_profiler](https://github.com/rkern/line_profiler) package (which was inspired by `line_profiler`) provides functions for assessing the memory usage of a function or program as it executes. It provides magic functions analogous to `%timeit` and `%lprun`.\n",
    "\n",
    "The example module provides two more alternative functions with which we can illustrate the memory cost of copying large arrays. Each performs the same calculations on the values in an array, but one of the functions avoids allocating any intermediate arrays in the process (perhaps at some cost to the readability of the code)."
   ]
  },
  {
   "cell_type": "code",
   "execution_count": 14,
   "metadata": {},
   "outputs": [
    {
     "name": "stdout",
     "output_type": "stream",
     "text": [
      "def calculate_via_copies(n):\n",
      "    \"\"\"\n",
      "    Return the density of the standard normal distribution for n values \\\n",
      "    linearly spaced between -3 and 3.\n",
      "    This version allocates intermediate arrays.\n",
      "    Compare with: calculate_without_copies\n",
      "    \"\"\"\n",
      "    x = numpy.linspace(-3, 3, n)\n",
      "    xSq = x**2\n",
      "    halfxSq = xSq / 2\n",
      "    negHalfxSq = -halfxSq\n",
      "    eToTheNegHalfxSq = numpy.e**negHalfxSq\n",
      "    factor = 1 / numpy.sqrt(2 * numpy.pi)\n",
      "    return factor * eToTheNegHalfxSq\n",
      "\n",
      "def calculate_without_copies(n):\n",
      "    \"\"\"\n",
      "    Return the density of the standard normal distribution for n values \\\n",
      "    linearly spaced between -3 and 3.\n",
      "    This version allocates no intermediate arrays.\n",
      "    Compare with: calculate_via_copies\n",
      "    \"\"\"\n",
      "    return (1 / numpy.sqrt(2*numpy.pi)) * numpy.e**-(numpy.linspace(-3, 3, n)**2 / 2)\n",
      "\n"
     ]
    }
   ],
   "source": [
    "for func in [cf.calculate_via_copies, cf.calculate_without_copies]:\n",
    "    print(inspect.getsource(func))"
   ]
  },
  {
   "cell_type": "code",
   "execution_count": 15,
   "metadata": {},
   "outputs": [
    {
     "name": "stdout",
     "output_type": "stream",
     "text": [
      "peak memory: 90.56 MiB, increment: 37.69 MiB\n"
     ]
    }
   ],
   "source": [
    "%memit cf.calculate_via_copies(1000000)"
   ]
  },
  {
   "cell_type": "code",
   "execution_count": 16,
   "metadata": {},
   "outputs": [
    {
     "name": "stdout",
     "output_type": "stream",
     "text": [
      "peak memory: 68.99 MiB, increment: 15.68 MiB\n"
     ]
    }
   ],
   "source": [
    "%memit cf.calculate_without_copies(1000000)"
   ]
  },
  {
   "cell_type": "markdown",
   "metadata": {},
   "source": [
    "Line-by-line memory profiling shows that memory usage increases slightly with each intermediate array."
   ]
  },
  {
   "cell_type": "code",
   "execution_count": 17,
   "metadata": {},
   "outputs": [
    {
     "name": "stdout",
     "output_type": "stream",
     "text": [
      "\n",
      "\n",
      "*** Profile printout saved to text file temp_profile_output.txt. \n",
      "Filename: /home/lt/Dropbox/Teach/Mind_and_Brain/Courses/Python/GitHub/python-examples/profiling/compare_funcs.py\n",
      "\n",
      "Line #    Mem usage    Increment   Line Contents\n",
      "================================================\n",
      "    82     54.0 MiB     54.0 MiB   def calculate_via_copies(n):\n",
      "    83                                 \"\"\"\n",
      "    84                                 Return the density of the standard normal distribution for n values \\\n",
      "    85                                 linearly spaced between -3 and 3.\n",
      "    86                                 This version allocates intermediate arrays.\n",
      "    87                                 Compare with: calculate_without_copies\n",
      "    88                                 \"\"\"\n",
      "    89     69.0 MiB     15.0 MiB       x = numpy.linspace(-3, 3, n)\n",
      "    90     69.0 MiB      0.0 MiB       xSq = x**2\n",
      "    91     76.8 MiB      7.7 MiB       halfxSq = xSq / 2\n",
      "    92     84.2 MiB      7.5 MiB       negHalfxSq = -halfxSq\n",
      "    93     92.0 MiB      7.7 MiB       eToTheNegHalfxSq = numpy.e**negHalfxSq\n",
      "    94     92.0 MiB      0.0 MiB       factor = 1 / numpy.sqrt(2 * numpy.pi)\n",
      "    95     99.5 MiB      7.5 MiB       return factor * eToTheNegHalfxSq\n"
     ]
    }
   ],
   "source": [
    "%mprun -f cf.calculate_via_copies -T temp_profile_output.txt cf.calculate_via_copies(1000000)\n",
    "\n",
    "print(open('temp_profile_output.txt').read())"
   ]
  },
  {
   "cell_type": "code",
   "execution_count": 18,
   "metadata": {},
   "outputs": [],
   "source": [
    "os.remove('temp_profile_output.txt')"
   ]
  }
 ],
 "metadata": {
  "kernelspec": {
   "display_name": "Python 3",
   "language": "python",
   "name": "python3"
  },
  "language_info": {
   "codemirror_mode": {
    "name": "ipython",
    "version": 3
   },
   "file_extension": ".py",
   "mimetype": "text/x-python",
   "name": "python",
   "nbconvert_exporter": "python",
   "pygments_lexer": "ipython3",
   "version": "3.6.8"
  }
 },
 "nbformat": 4,
 "nbformat_minor": 2
}
