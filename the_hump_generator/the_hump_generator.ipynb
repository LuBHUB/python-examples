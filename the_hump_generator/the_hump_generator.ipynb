{
 "cells": [
  {
   "cell_type": "code",
   "execution_count": 1,
   "metadata": {},
   "outputs": [],
   "source": [
    "import sys\n",
    "from matplotlib import pyplot as plt\n",
    "import numpy as np"
   ]
  },
  {
   "cell_type": "markdown",
   "metadata": {},
   "source": [
    "# An example of a generator\n",
    "\n",
    "We will demonstrate the use of generators, by modifying the hump function so that it returns a generator object instead of a complete time series. The two versions of the function are contained in an example module 'hump.py'. Open it up if you want to see their workings.\n",
    "\n",
    "We begin by importing this module."
   ]
  },
  {
   "cell_type": "code",
   "execution_count": 2,
   "metadata": {},
   "outputs": [
    {
     "data": {
      "text/plain": [
       "['__builtins__',\n",
       " '__cached__',\n",
       " '__doc__',\n",
       " '__file__',\n",
       " '__loader__',\n",
       " '__name__',\n",
       " '__package__',\n",
       " '__spec__',\n",
       " 'generate',\n",
       " 'numpy',\n",
       " 'series']"
      ]
     },
     "execution_count": 2,
     "metadata": {},
     "output_type": "execute_result"
    }
   ],
   "source": [
    "import hump\n",
    "dir(hump)"
   ]
  },
  {
   "cell_type": "markdown",
   "metadata": {},
   "source": [
    "The `series` function returns a complete time series as we have seen before."
   ]
  },
  {
   "cell_type": "code",
   "execution_count": 3,
   "metadata": {},
   "outputs": [
    {
     "name": "stdout",
     "output_type": "stream",
     "text": [
      "<class 'numpy.ndarray'>\n",
      "[0.5        0.75       0.5625     0.73828125 0.57966614 0.73095992]\n"
     ]
    }
   ],
   "source": [
    "n = 6\n",
    "y0 = 0.5\n",
    "beta = 3.\n",
    "\n",
    "hArray = hump.series(n, y0, beta)\n",
    "\n",
    "print(type(hArray))\n",
    "print(hArray)"
   ]
  },
  {
   "cell_type": "markdown",
   "metadata": {},
   "source": [
    "The `generate` function takes the same arguments but returns a generator object."
   ]
  },
  {
   "cell_type": "code",
   "execution_count": 4,
   "metadata": {},
   "outputs": [
    {
     "name": "stdout",
     "output_type": "stream",
     "text": [
      "<class 'generator'>\n",
      "<generator object generate at 0x7fa4c90cf7d8>\n"
     ]
    }
   ],
   "source": [
    "hGen = hump.generate(n, y0, beta)\n",
    "\n",
    "print(type(hGen))\n",
    "print(hGen)"
   ]
  },
  {
   "cell_type": "markdown",
   "metadata": {},
   "source": [
    "The generator object does not display for us its values when we print it out. This is because they have not been calculated yet. We can think of a generator approximately as a 'paused' function call. It is ready to generate its values one by one but only does so when we tell it to. Each time we get one of the values, the function call 'moves on' until the point that the next value is ready, and then waits again until we ask for that one.\n",
    "\n",
    "Take a look inside the file we imported to see how the generator function works. In place of a `return` statement, the generator function has a `yield` statement. This marks the place at which the next value is calculated and returned. Each time we get one of the values, the function moves on as far as the next `yield`.\n",
    "\n",
    "Iterating in a loop will cause the generator to generate its values, and the result is the same as iterating through a list or array."
   ]
  },
  {
   "cell_type": "code",
   "execution_count": 5,
   "metadata": {},
   "outputs": [
    {
     "name": "stdout",
     "output_type": "stream",
     "text": [
      "0.5\n",
      "0.75\n",
      "0.5625\n",
      "0.73828125\n",
      "0.5796661376953125\n",
      "0.7309599195141345\n"
     ]
    }
   ],
   "source": [
    "for y in hGen:\n",
    "    print(y)"
   ]
  },
  {
   "cell_type": "markdown",
   "metadata": {},
   "source": [
    "Generators are intended for single use. If we have generated all the values, then the generator has 'finished' and can't be iterated again, because the 'paused function' has moved on all the way to its end."
   ]
  },
  {
   "cell_type": "code",
   "execution_count": 6,
   "metadata": {},
   "outputs": [],
   "source": [
    "for y in hGen:\n",
    "    print(y)\n",
    "# no output"
   ]
  },
  {
   "cell_type": "markdown",
   "metadata": {},
   "source": [
    "If we want to get the generator's values again, we need to create a new one."
   ]
  },
  {
   "cell_type": "code",
   "execution_count": 7,
   "metadata": {},
   "outputs": [],
   "source": [
    "hGen = hump.generate(n, y0, beta)"
   ]
  },
  {
   "cell_type": "markdown",
   "metadata": {},
   "source": [
    "Both of these features, not displaying all values together and only iterating once, seem like disadvantages compared to a list or array. So what is the point of a generator? The advantages are somewhat 'behind the scenes'. Because a list or array stores all its values ready for repeated access, it tends to take up more space in our computer's memory. A generator stores only the algorithm for generating successive values, so it takes up an amount of memory that does not necessarily increase the more values we generate.\n",
    "\n",
    "The `getsizeof` function from the `sys` module can tell us the size (in bytes) of a Python object in memory."
   ]
  },
  {
   "cell_type": "code",
   "execution_count": 8,
   "metadata": {},
   "outputs": [
    {
     "name": "stdout",
     "output_type": "stream",
     "text": [
      "144\n",
      "88\n"
     ]
    }
   ],
   "source": [
    "print(sys.getsizeof(hArray))\n",
    "print(sys.getsizeof(hGen))"
   ]
  },
  {
   "cell_type": "markdown",
   "metadata": {},
   "source": [
    "Note that the size of the array depends on how many values it contains. But the generator does not increase in size even if we want to generate many more values. This is because it does not contain the values, only instructions for generating them."
   ]
  },
  {
   "cell_type": "code",
   "execution_count": 9,
   "metadata": {},
   "outputs": [
    {
     "name": "stdout",
     "output_type": "stream",
     "text": [
      "72096\n",
      "88\n"
     ]
    }
   ],
   "source": [
    "n = 9000\n",
    "\n",
    "hArray = hump.series(n, y0, beta)\n",
    "hGen = hump.generate(n, y0, beta)\n",
    "\n",
    "print(sys.getsizeof(hArray))\n",
    "print(sys.getsizeof(hGen))"
   ]
  },
  {
   "cell_type": "markdown",
   "metadata": {},
   "source": [
    "This feature of a generator is particularly useful if we do not know in advance how far through a series we want to iterate. If we are just searching for the first value that meets a certain criterion, the generator will only compute values up until the value we are searching for. With a list or array, we need first to compute all the values, then start searching through them.\n",
    "\n",
    "Imagine we are searching in a time series for the first value within a certain distance of a target value. The plot below shows the region within which values satisfy the search criterion."
   ]
  },
  {
   "cell_type": "code",
   "execution_count": 10,
   "metadata": {},
   "outputs": [
    {
     "data": {
      "image/png": "[encoded data removed]",
      "text/plain": [
       "<Figure size 432x288 with 1 Axes>"
      ]
     },
     "metadata": {},
     "output_type": "display_data"
    }
   ],
   "source": [
    "n = 40\n",
    "\n",
    "hArray = hump.series(n, y0, beta)\n",
    "\n",
    "target = 2./3\n",
    "criterion = 0.05\n",
    "targetRange = (target-criterion, target+criterion)\n",
    "\n",
    "plt.plot(hArray, marker='.')\n",
    "plt.axhline(target, color='red')\n",
    "plt.axhspan(*targetRange, facecolor='red', alpha=0.5)\n",
    "plt.show()"
   ]
  },
  {
   "cell_type": "markdown",
   "metadata": {},
   "source": [
    "We can see that value 13 is the first that satisfies the search criterion. If we just want to find this out, we don't need all the values in the array."
   ]
  },
  {
   "cell_type": "code",
   "execution_count": 11,
   "metadata": {},
   "outputs": [
    {
     "data": {
      "text/plain": [
       "array([13, 15, 17, 19, 20, 21, 22, 23, 24, 25, 26, 27, 28, 29, 30, 31, 32,\n",
       "       33, 34, 35, 36, 37, 38, 39])"
      ]
     },
     "execution_count": 11,
     "metadata": {},
     "output_type": "execute_result"
    }
   ],
   "source": [
    "np.where(np.abs(hArray - target) < criterion)[0]"
   ]
  },
  {
   "cell_type": "markdown",
   "metadata": {},
   "source": [
    "Let's define a function for performing such a search. The function returns as soon as it finds the first acceptable value."
   ]
  },
  {
   "cell_type": "code",
   "execution_count": 12,
   "metadata": {},
   "outputs": [],
   "source": [
    "def find_first(series, target):\n",
    "    \"\"\"\n",
    "    Find the position of the first value in a hump time series that is within a certain range.\n",
    "    \n",
    "    Arguments:\n",
    "    series -- a hump time series (created by hump.series or hump.generate)\n",
    "    target -- tuple of (min, max) specifying target range\n",
    "    \n",
    "    Returns:\n",
    "    int index of first acceptable value in series, or None if no acceptable value is found\n",
    "    \"\"\"\n",
    "    for i,y in enumerate(series):\n",
    "        if target[0] < y < target[1]:\n",
    "            return i"
   ]
  },
  {
   "cell_type": "markdown",
   "metadata": {},
   "source": [
    "And let's test it using the example we plotted above."
   ]
  },
  {
   "cell_type": "code",
   "execution_count": 13,
   "metadata": {},
   "outputs": [
    {
     "name": "stdout",
     "output_type": "stream",
     "text": [
      "13\n"
     ]
    }
   ],
   "source": [
    "print(find_first(hArray, targetRange))"
   ]
  },
  {
   "cell_type": "markdown",
   "metadata": {},
   "source": [
    "Now we can see how the function performs when it has to search an unnecessarily long series for a value that occurs early on in the series. We can time how long the search takes when the series is an array compared to when it is a generator.\n",
    "\n",
    "The IPython `%timeit` function times the execution of a Python statement."
   ]
  },
  {
   "cell_type": "code",
   "execution_count": 14,
   "metadata": {},
   "outputs": [
    {
     "name": "stdout",
     "output_type": "stream",
     "text": [
      "100 loops, best of 3: 4.79 ms per loop\n"
     ]
    }
   ],
   "source": [
    "n = 9000\n",
    "\n",
    "%timeit find_first(hump.series(n, y0, beta), targetRange)"
   ]
  },
  {
   "cell_type": "code",
   "execution_count": 15,
   "metadata": {},
   "outputs": [
    {
     "name": "stdout",
     "output_type": "stream",
     "text": [
      "100000 loops, best of 3: 2.78 µs per loop\n"
     ]
    }
   ],
   "source": [
    "%timeit find_first(hump.generate(n, y0, beta), targetRange)"
   ]
  },
  {
   "cell_type": "markdown",
   "metadata": {},
   "source": [
    "Note that the result for the generator version is given in microseconds, whereas the result for the array version is in milliseconds.\n",
    "\n",
    "So creating and interating through a generator can be a lot faster than doing the same for an array if there is a chance that the iteration will break off early.\n",
    "\n",
    "But we shouldn't get carried away with novelty for the sake of it. If speed and memory usage is not a concern or if we will need to access values repeatedly or not in order, then a list or array can be more convenient to work with."
   ]
  }
 ],
 "metadata": {
  "kernelspec": {
   "display_name": "Python 3",
   "language": "python",
   "name": "python3"
  },
  "language_info": {
   "codemirror_mode": {
    "name": "ipython",
    "version": 3
   },
   "file_extension": ".py",
   "mimetype": "text/x-python",
   "name": "python",
   "nbconvert_exporter": "python",
   "pygments_lexer": "ipython3",
   "version": "3.6.7"
  }
 },
 "nbformat": 4,
 "nbformat_minor": 2
}
